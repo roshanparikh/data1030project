{
 "cells": [
  {
   "cell_type": "markdown",
   "metadata": {},
   "source": [
    "**Predicting Pulmonary Edema for Myocardial Infarction Patients**\n",
    "-\n",
    "**Roshan S. Parikh**"
   ]
  },
  {
   "cell_type": "markdown",
   "metadata": {},
   "source": [
    "This is the code file for the project that includes all steps of the ML pipeline except for EDA, which can also be found in the GitHub repository for this project."
   ]
  },
  {
   "cell_type": "code",
   "execution_count": 304,
   "metadata": {},
   "outputs": [],
   "source": [
    "import pandas as pd\n",
    "\n",
    "import seaborn as sns\n",
    "import numpy as np\n",
    "from sklearn.model_selection import train_test_split \n",
    "import matplotlib.pyplot as plt\n",
    "import math\n",
    "from sklearn.compose import ColumnTransformer\n",
    "from sklearn.pipeline import Pipeline\n",
    "from sklearn.preprocessing import StandardScaler, OneHotEncoder, OrdinalEncoder, MinMaxScaler\n",
    "from sklearn.model_selection import train_test_split\n",
    "from sklearn.model_selection import StratifiedKFold"
   ]
  },
  {
   "cell_type": "markdown",
   "metadata": {},
   "source": [
    "**LOADING DATA**"
   ]
  },
  {
   "cell_type": "code",
   "execution_count": 305,
   "metadata": {},
   "outputs": [],
   "source": [
    "'''\n",
    "Loading the data from UCI repository.\n",
    "''' \n",
    "\n",
    "from ucimlrepo import fetch_ucirepo \n",
    "pd.set_option('display.max_rows', None)\n",
    "  \n",
    "# fetch dataset \n",
    "myocardial_infarction_complications = fetch_ucirepo(id=579) \n",
    "  \n",
    "# data (as pandas dataframes) \n",
    "df = myocardial_infarction_complications.data.original \n",
    "X_full = myocardial_infarction_complications.data.features[:] \n",
    "y_full = myocardial_infarction_complications.data.targets[:] \n",
    "  \n",
    "# metadata \n",
    "metadata = myocardial_infarction_complications.metadata\n",
    "  \n",
    "# variable information \n",
    "vars = myocardial_infarction_complications.variables"
   ]
  },
  {
   "cell_type": "code",
   "execution_count": 424,
   "metadata": {},
   "outputs": [],
   "source": [
    "''' \n",
    "Reconfigure data for our purpose.\n",
    "- Make X feature matrix\n",
    "- Pick target variable to be Pulmonary Edema (OTEK_LANC)\n",
    "'''\n",
    "X = X_full[:]\n",
    "y = y_full['OTEK_LANC']"
   ]
  },
  {
   "cell_type": "markdown",
   "metadata": {},
   "source": [
    "**MISSING VALUES**"
   ]
  },
  {
   "cell_type": "code",
   "execution_count": 425,
   "metadata": {},
   "outputs": [
    {
     "name": "stdout",
     "output_type": "stream",
     "text": [
      "KFK_BLOOD      True\n",
      "IBS_NASL       True\n",
      "D_AD_KBRIG     True\n",
      "S_AD_KBRIG     True\n",
      "NOT_NA_KB     False\n",
      "              ...  \n",
      "zab_leg_04    False\n",
      "NA_R_1_n      False\n",
      "INF_ANAM      False\n",
      "IM_PG_P       False\n",
      "SEX           False\n",
      "Length: 111, dtype: bool\n",
      "(1700, 111)\n"
     ]
    }
   ],
   "source": [
    "pd.set_option('display.max_rows', 10)  # or use a specific number\n",
    "\n",
    "X_nan_number = X.isna().sum().sort_values(ascending=False)\n",
    "X_nan_percentage = X_nan_number/1700\n",
    "\n",
    "print(X_nan_percentage>0.5)\n",
    "\n",
    "missing_rows = X[X.isnull()]\n",
    "print(missing_rows.shape) # Every row has at least one missing value"
   ]
  },
  {
   "cell_type": "code",
   "execution_count": 426,
   "metadata": {},
   "outputs": [],
   "source": [
    "'''\n",
    "Dropping columns with >50% NaNs.\n",
    "'''\n",
    "X = X.drop(['KFK_BLOOD', 'IBS_NASL', 'D_AD_KBRIG', 'S_AD_KBRIG'], axis=1)"
   ]
  },
  {
   "cell_type": "code",
   "execution_count": 427,
   "metadata": {},
   "outputs": [],
   "source": [
    "''' \n",
    "Dropping rows where 'AGE', 'S_AD_ORIT', 'D_AD_ORIT', 'L_BLOOD', 'NA_BLOOD', 'K_BLOOD' are NaN.\n",
    "'''\n",
    "\n",
    "for ftr in ['AGE', 'S_AD_ORIT', 'D_AD_ORIT', 'L_BLOOD', 'NA_BLOOD', 'K_BLOOD']:\n",
    "    valid_index = X[X[ftr].notna()].index\n",
    "    X = X.loc[valid_index]\n",
    "    y = y.loc[valid_index]"
   ]
  },
  {
   "cell_type": "markdown",
   "metadata": {},
   "source": [
    "**CLEANING DATA**"
   ]
  },
  {
   "cell_type": "code",
   "execution_count": 428,
   "metadata": {},
   "outputs": [],
   "source": [
    "''' \n",
    "Cleaning data\n",
    "- Organize features for later use.\n",
    "- Four types provided in dataset information: binary, categorical, integer, continuous\n",
    "'''\n",
    "names_binary_feats = np.array(vars[(vars['type']=='Binary') & (vars['role']=='Feature')].name)\n",
    "names_cat_feats = np.array(vars[(vars['type']=='Categorical') & (vars['role']=='Feature')].name)\n",
    "names_int_feats = np.array(vars[(vars['type']=='Integer') & (vars['role']=='Feature')].name)\n",
    "names_cont_feats = np.array(vars[(vars['type']=='Continuous') & (vars['role']=='Feature')].name)\n",
    "\n",
    "# Adjusting for already-removed columns\n",
    "names_cont_feats = np.setdiff1d(names_cont_feats, ['KFK_BLOOD'])\n",
    "names_binary_feats = np.setdiff1d(names_binary_feats, ['IBS_NASL'])\n",
    "\n",
    "# Change to data types appropriate for encoding/preprocessing\n",
    "onehot_ftrs = np.concatenate((names_binary_feats, ['ant_im', 'lat_im', 'inf_im', 'post_im']))\n",
    "ordinal_ftrs = np.concatenate((np.setdiff1d(names_cat_feats, ['ant_im', 'lat_im', 'inf_im', 'post_im']), ['NA_R_1_n', 'NA_R_2_n', 'NA_R_3_n', 'NOT_NA_2_n', 'NOT_NA_3_n'])) # note: ordinal features are already in order in the given dataset\n",
    "minmax_ftrs = np.array(['AGE', 'S_AD_ORIT', 'D_AD_ORIT'])\n",
    "std_ftrs = names_cont_feats\n",
    "\n",
    "# Combine all feature arrays into one\n",
    "all_ftrs = np.concatenate((onehot_ftrs, ordinal_ftrs, minmax_ftrs, std_ftrs))\n",
    "\n",
    "# Change 'nan' string into NaN value\n",
    "X[ordinal_ftrs] = X[ordinal_ftrs].astype(str)\n",
    "X[onehot_ftrs] = X[onehot_ftrs].astype(str)\n",
    "X.replace('nan', np.nan, inplace=True)"
   ]
  },
  {
   "cell_type": "markdown",
   "metadata": {},
   "source": [
    "**SPLITTING DATA**"
   ]
  },
  {
   "cell_type": "code",
   "execution_count": 429,
   "metadata": {},
   "outputs": [
    {
     "name": "stdout",
     "output_type": "stream",
     "text": [
      "balance (percentage): OTEK_LANC\n",
      "0    0.896455\n",
      "1    0.103545\n",
      "Name: count, dtype: float64\n",
      "test data \n",
      "(array([0, 1]), array([961, 111]))\n",
      "Fold 1\n",
      "(array([0, 1]), array([614,  71]))\n",
      "(array([0, 1]), array([154,  18]))\n",
      "Fold 2\n",
      "(array([0, 1]), array([614,  71]))\n",
      "(array([0, 1]), array([154,  18]))\n",
      "Fold 3\n",
      "(array([0, 1]), array([614,  72]))\n",
      "(array([0, 1]), array([154,  17]))\n",
      "Fold 4\n",
      "(array([0, 1]), array([615,  71]))\n",
      "(array([0, 1]), array([153,  18]))\n",
      "Fold 5\n",
      "(array([0, 1]), array([615,  71]))\n",
      "(array([0, 1]), array([153,  18]))\n"
     ]
    }
   ],
   "source": [
    "''' \n",
    "Using Stratified k-Folds\n",
    "- Notice that dataset is imbalanced\n",
    "'''\n",
    "print(f\"balance (percentage): {y.value_counts()/(len(y))}\") # 90.6% of patients are in class 0, while 9.4% are in class 1 ==> imbalanced data\n",
    "\n",
    "random_state = 2\n",
    "\n",
    "# Stratify-split out test data: 20% of data for testing\n",
    "X_other, X_test, y_other, y_test = train_test_split(X,y,test_size = 0.2,stratify=y,random_state=random_state)\n",
    "print(f\"test data \\n{np.unique(y,return_counts=True)}\")\n",
    "\n",
    "splits = {}\n",
    "\n",
    "# StratifiedKFold for validation-training splits\n",
    "kf = StratifiedKFold(n_splits=5, shuffle=True, random_state=random_state)\n",
    "for fold_idx, (train_index, val_index) in enumerate(kf.split(X_other, y_other)):\n",
    "    print(f'Fold {fold_idx + 1}')\n",
    "    \n",
    "    # Create training and validation splits\n",
    "    X_train = X_other.iloc[train_index]\n",
    "    y_train = y_other.iloc[train_index]\n",
    "    X_val = X_other.iloc[val_index]\n",
    "    y_val = y_other.iloc[val_index]\n",
    "\n",
    "    # Store current fold in the splits dictionary\n",
    "    splits[f'fold_{fold_idx}'] = {\n",
    "        'X_train': X_train,\n",
    "        'y_train': y_train,\n",
    "        'X_val': X_val,\n",
    "        'y_val': y_val\n",
    "    }\n",
    "\n",
    "    print(np.unique(y_train, return_counts=True))\n",
    "    print(np.unique(y_val, return_counts=True))\n"
   ]
  },
  {
   "cell_type": "markdown",
   "metadata": {},
   "source": [
    "**PREPROCESSING: FEATURE ENCODING**"
   ]
  },
  {
   "cell_type": "code",
   "execution_count": 430,
   "metadata": {},
   "outputs": [],
   "source": [
    "''' \n",
    "Creating and collecting encoders\n",
    "- For categorical and ordinal data, treat missing data as its own category\n",
    "'''\n",
    "from sklearn.impute import SimpleImputer\n",
    "\n",
    "# Categorical\n",
    "one_hot_transformer = Pipeline(steps=[\n",
    "    ('imputer', SimpleImputer(strategy='constant',fill_value='missing')),\n",
    "    ('onehot', OneHotEncoder(sparse_output=False,handle_unknown='ignore'))])\n",
    "\n",
    "# Ordinal\n",
    "ordinal_transformer = Pipeline(steps=[\n",
    "    ('imputer2', SimpleImputer(strategy='constant',fill_value='missing')),\n",
    "    ('ordinal', OrdinalEncoder(categories='auto', handle_unknown='use_encoded_value', unknown_value=-1))])\n",
    "\n",
    "# MinMax \n",
    "minmax_transformer = Pipeline(steps=[\n",
    "    ('minmax', MinMaxScaler())])\n",
    "\n",
    "# Standard scaler \n",
    "std_transformer = Pipeline(steps=[\n",
    "    ('scaler', StandardScaler())])\n",
    "\n",
    "# Collect the transformers\n",
    "preprocessor = ColumnTransformer(\n",
    "    transformers=[\n",
    "        ('std', std_transformer, std_ftrs),\n",
    "        ('ohot', one_hot_transformer, onehot_ftrs),\n",
    "        ('ord', ordinal_transformer, ordinal_ftrs),\n",
    "        ('minmax', minmax_transformer, minmax_ftrs)])\n",
    "\n",
    "clf = Pipeline(steps=[('preprocessor', preprocessor)])\n",
    "final_scaler = StandardScaler()"
   ]
  },
  {
   "cell_type": "code",
   "execution_count": 431,
   "metadata": {},
   "outputs": [],
   "source": [
    "''' \n",
    "Preprocessing data for each split.\n",
    "'''\n",
    "X_splits_prep = {}\n",
    "\n",
    "for key,value in splits.items():\n",
    "    # Get data\n",
    "    X_train = value['X_train']\n",
    "    X_val = value['X_val']\n",
    "\n",
    "    # Get preprocessed data\n",
    "    X_train_prep = clf.fit_transform(X_train)\n",
    "    X_val_prep = clf.transform(X_val)\n",
    "    X_test_prep = clf.transform(X_test)\n",
    "\n",
    "    # Standard scale everything\n",
    "    X_train_prep = final_scaler.fit_transform(X_train_prep)\n",
    "    X_val_prep = final_scaler.transform(X_val_prep)\n",
    "    X_test_prep = final_scaler.transform(X_test_prep)\n",
    "\n",
    "    # Turn into dfs\n",
    "    X_train_df = pd.DataFrame(X_train_prep, columns = preprocessor.get_feature_names_out())\n",
    "    X_val_df = pd.DataFrame(X_val_prep, columns = preprocessor.get_feature_names_out())\n",
    "    X_test_df = pd.DataFrame(X_test_prep, columns = preprocessor.get_feature_names_out())\n",
    "    \n",
    "    # Store in dictionary splits_prep\n",
    "    X_splits_prep[key] = {\n",
    "        'X_train_df': X_train_df,\n",
    "        'X_val_df': X_val_df,\n",
    "        'X_test_df': X_test_df\n",
    "    }"
   ]
  },
  {
   "cell_type": "markdown",
   "metadata": {},
   "source": [
    "**PREPROCESSING: FEATURE SELECTION AND CORRELATION TESTS**"
   ]
  },
  {
   "cell_type": "code",
   "execution_count": 432,
   "metadata": {},
   "outputs": [
    {
     "name": "stdout",
     "output_type": "stream",
     "text": [
      "                     Feature1                  Feature2  Correlation\n",
      "22     ohot__n_p_ecg_p_01_0.0    ohot__n_p_ecg_p_09_0.0     0.988055\n",
      "55     ohot__n_p_ecg_p_09_0.0    ohot__n_r_ecg_p_10_0.0     0.988055\n",
      "36     ohot__n_p_ecg_p_05_0.0    ohot__n_p_ecg_p_09_0.0     0.988055\n",
      "39     ohot__n_p_ecg_p_05_0.0    ohot__n_r_ecg_p_09_0.0     0.988055\n",
      "79     ohot__n_r_ecg_p_09_0.0    ohot__n_r_ecg_p_10_0.0     0.988055\n",
      "63     ohot__n_r_ecg_p_02_0.0    ohot__n_r_ecg_p_10_0.0     0.988055\n",
      "37     ohot__n_p_ecg_p_05_0.0    ohot__n_r_ecg_p_02_0.0     0.988055\n",
      "27     ohot__n_p_ecg_p_04_0.0    ohot__n_p_ecg_p_05_0.0     0.988055\n",
      "25     ohot__n_p_ecg_p_01_0.0    ohot__n_r_ecg_p_09_0.0     0.988055\n",
      "23     ohot__n_p_ecg_p_01_0.0    ohot__n_r_ecg_p_02_0.0     0.988055\n",
      "33     ohot__n_p_ecg_p_04_0.0    ohot__n_r_ecg_p_10_0.0     0.988055\n",
      "20     ohot__n_p_ecg_p_01_0.0    ohot__n_p_ecg_p_04_0.0     0.988055\n",
      "102      ohot__ant_im_missing     ohot__post_im_missing     0.981234\n",
      "38     ohot__n_p_ecg_p_05_0.0    ohot__n_r_ecg_p_08_0.0     0.976492\n",
      "24     ohot__n_p_ecg_p_01_0.0    ohot__n_r_ecg_p_08_0.0     0.976492\n",
      "71     ohot__n_r_ecg_p_08_0.0    ohot__n_r_ecg_p_10_0.0     0.976492\n",
      "30     ohot__n_p_ecg_p_04_0.0    ohot__n_r_ecg_p_02_0.0     0.976215\n",
      "62     ohot__n_r_ecg_p_02_0.0    ohot__n_r_ecg_p_09_0.0     0.976215\n",
      "54     ohot__n_p_ecg_p_09_0.0    ohot__n_r_ecg_p_09_0.0     0.976215\n",
      "29     ohot__n_p_ecg_p_04_0.0    ohot__n_p_ecg_p_09_0.0     0.976215\n",
      "52     ohot__n_p_ecg_p_09_0.0    ohot__n_r_ecg_p_02_0.0     0.976215\n",
      "32     ohot__n_p_ecg_p_04_0.0    ohot__n_r_ecg_p_09_0.0     0.976215\n",
      "61     ohot__n_r_ecg_p_02_0.0    ohot__n_r_ecg_p_08_0.0     0.964755\n",
      "70     ohot__n_r_ecg_p_08_0.0    ohot__n_r_ecg_p_09_0.0     0.964755\n",
      "53     ohot__n_p_ecg_p_09_0.0    ohot__n_r_ecg_p_08_0.0     0.964755\n",
      "31     ohot__n_p_ecg_p_04_0.0    ohot__n_r_ecg_p_08_0.0     0.964755\n",
      "100      ohot__ant_im_missing      ohot__lat_im_missing     0.961443\n",
      "5        ohot__LID_KB_missing   ohot__NOT_NA_KB_missing     0.959530\n",
      "35     ohot__n_p_ecg_p_05_0.0    ohot__n_p_ecg_p_08_0.0     0.954435\n",
      "21     ohot__n_p_ecg_p_01_0.0    ohot__n_p_ecg_p_08_0.0     0.954435\n",
      "47     ohot__n_p_ecg_p_08_0.0    ohot__n_r_ecg_p_10_0.0     0.954435\n",
      "8         ohot__NA_KB_missing   ohot__NOT_NA_KB_missing     0.950258\n",
      "4        ohot__LID_KB_missing       ohot__NA_KB_missing     0.946365\n",
      "104      ohot__lat_im_missing     ohot__post_im_missing     0.943343\n",
      "44     ohot__n_p_ecg_p_08_0.0    ohot__n_r_ecg_p_02_0.0     0.942890\n",
      "43     ohot__n_p_ecg_p_08_0.0    ohot__n_p_ecg_p_09_0.0     0.942890\n",
      "28     ohot__n_p_ecg_p_04_0.0    ohot__n_p_ecg_p_08_0.0     0.942890\n",
      "46     ohot__n_p_ecg_p_08_0.0    ohot__n_r_ecg_p_09_0.0     0.942890\n",
      "87            ohot__np_01_0.0           ohot__np_08_0.0     0.942112\n",
      "93            ohot__np_08_0.0           ohot__np_10_0.0     0.942112\n",
      "92            ohot__np_08_0.0           ohot__np_09_0.0     0.942112\n",
      "90            ohot__np_07_0.0           ohot__np_10_0.0     0.942112\n",
      "89            ohot__np_07_0.0           ohot__np_09_0.0     0.942112\n",
      "86            ohot__np_01_0.0           ohot__np_07_0.0     0.942112\n",
      "106      ohot__inf_im_missing     ohot__post_im_missing     0.932562\n",
      "45     ohot__n_p_ecg_p_08_0.0    ohot__n_r_ecg_p_08_0.0     0.931713\n",
      "2    ohot__B_BLOK_S_n_missing     ohot__LID_S_n_missing     0.925138\n",
      "0    ohot__ANT_CA_S_n_missing  ohot__B_BLOK_S_n_missing     0.925138\n",
      "101      ohot__ant_im_missing      ohot__inf_im_missing     0.915062\n",
      "3    ohot__B_BLOK_S_n_missing      ohot__NITR_S_missing     0.912199\n",
      "13    ohot__endocr_01_missing   ohot__endocr_03_missing     0.912199\n",
      "12    ohot__endocr_01_missing   ohot__endocr_02_missing     0.912199\n",
      "17      ohot__fibr_ter_07_0.0     ohot__fibr_ter_08_0.0     0.912199\n",
      "16      ohot__fibr_ter_06_0.0     ohot__fibr_ter_08_0.0     0.912199\n",
      "98    ohot__ritm_ecg_p_04_0.0   ohot__ritm_ecg_p_06_0.0     0.904065\n"
     ]
    }
   ],
   "source": [
    "''' \n",
    "Pearson Correlations\n",
    "'''\n",
    "pd.set_option('display.max_rows', 200)  # or use a specific number\n",
    "\n",
    "# Use fold_0 to see Pearson Correlations\n",
    "X_filtered = X_splits_prep['fold_0']['X_train_df']\n",
    "\n",
    "mat = X_filtered.corr(method='pearson', min_periods=1, numeric_only=False)\n",
    "\n",
    "# Set a threshhold for correlation values\n",
    "threshold = 0.9\n",
    "\n",
    "# Get the pairs of features that meet the criteria\n",
    "mask = (mat > threshold) & (mat != 1)  # Exclude self-correlation\n",
    "high_corr_pairs = mat[mask]\n",
    "\n",
    "# Convert to a long format for easier reading\n",
    "high_corr_pairs = high_corr_pairs.stack().reset_index()\n",
    "high_corr_pairs.columns = ['Feature1', 'Feature2', 'Correlation']\n",
    "\n",
    "# Get rid of reverse-order pairs of (Feature1, Feature2)\n",
    "high_corr_pairs['Sorted_Pair'] = high_corr_pairs.apply(\n",
    "    lambda row: tuple(sorted([row['Feature1'], row['Feature2']])), axis=1)\n",
    "\n",
    "high_corr_pairs_unique = high_corr_pairs.drop_duplicates(subset='Sorted_Pair')\n",
    "high_corr_pairs_unique = high_corr_pairs_unique.drop(columns=['Sorted_Pair'])\n",
    "\n",
    "sorted_pairs = high_corr_pairs_unique.sort_values(by='Correlation', ascending=False)\n",
    "\n",
    "# Display the sorted DataFrame with descriptions\n",
    "print(sorted_pairs) #went through the pairs; don't feel comfortable removing anything \n"
   ]
  },
  {
   "cell_type": "code",
   "execution_count": 433,
   "metadata": {},
   "outputs": [
    {
     "name": "stderr",
     "output_type": "stream",
     "text": [
      "/var/folders/sd/_g49jm097m1ccf0r7dhzypt00000gn/T/ipykernel_66642/1955856902.py:8: SettingWithCopyWarning: \n",
      "A value is trying to be set on a copy of a slice from a DataFrame\n",
      "\n",
      "See the caveats in the documentation: https://pandas.pydata.org/pandas-docs/stable/user_guide/indexing.html#returning-a-view-versus-a-copy\n",
      "  X_oh_ord.fillna(-1, inplace=True)\n"
     ]
    },
    {
     "name": "stdout",
     "output_type": "stream",
     "text": [
      "134.0633988314203\n"
     ]
    },
    {
     "data": {
      "image/png": "[encoded data removed]",
      "text/plain": [
       "<Figure size 640x480 with 1 Axes>"
      ]
     },
     "metadata": {},
     "output_type": "display_data"
    }
   ],
   "source": [
    "'''\n",
    "f-tests for classification problems (linear correlations)\n",
    "'''\n",
    "\n",
    "from sklearn.feature_selection import f_classif, mutual_info_classif\n",
    "\n",
    "X_oh_ord = X[np.concatenate([onehot_ftrs,ordinal_ftrs])] #only onehot and ordinal ftrs because no nans\n",
    "X_oh_ord.fillna(-1, inplace=True)\n",
    "\n",
    "f_stats, p_values = f_classif(X_oh_ord, y)\n",
    "lin_corr = pd.Series(f_stats, index = X_oh_ord.columns).sort_values(ascending=False)\n",
    "\n",
    "Xf = lin_corr.head(5).index\n",
    "Yf = lin_corr.head(5).values\n",
    "print(max(Yf))\n",
    "\n",
    "plt.bar(Xf, Yf)\n",
    "figsize = (4,3)\n",
    "plt.title(f'F-statistic by Top 5 Features, Pulmonary Edema')\n",
    "plt.xticks(rotation=45)\n",
    "plt.xlabel('Features')\n",
    "plt.ylabel('F-statistic')\n",
    "plt.tight_layout()\n",
    "plt.show()"
   ]
  },
  {
   "cell_type": "code",
   "execution_count": 434,
   "metadata": {},
   "outputs": [
    {
     "data": {
      "image/png": "[encoded data removed]",
      "text/plain": [
       "<Figure size 640x480 with 1 Axes>"
      ]
     },
     "metadata": {},
     "output_type": "display_data"
    }
   ],
   "source": [
    "''' \n",
    "MI test for classification (non-linear correlations)\n",
    "'''\n",
    "mc = mutual_info_classif(X_oh_ord, y)\n",
    "non_lin_corr = pd.Series(mc, X_oh_ord.columns).sort_values(ascending=False)\n",
    "\n",
    "Xm = non_lin_corr.head(5).index\n",
    "Ym = non_lin_corr.head(5).values\n",
    "\n",
    "plt.bar(Xm, Ym)\n",
    "figsize=(4,3)\n",
    "plt.title(f'Mutual Information vs. Top 5 Features')\n",
    "plt.xticks(rotation=45)\n",
    "plt.xlabel('Features')\n",
    "plt.ylabel('Mutual Information')\n",
    "plt.tight_layout()\n",
    "plt.show()"
   ]
  },
  {
   "cell_type": "markdown",
   "metadata": {},
   "source": [
    "**MODEL TESTING & CROSS VALIDATION**"
   ]
  },
  {
   "cell_type": "markdown",
   "metadata": {},
   "source": [
    "LOGISTIC REGRESSION"
   ]
  },
  {
   "cell_type": "code",
   "execution_count": 435,
   "metadata": {},
   "outputs": [
    {
     "name": "stdout",
     "output_type": "stream",
     "text": [
      "ALT_BLOOD    110\n",
      "AST_BLOOD    111\n",
      "K_BLOOD        0\n",
      "L_BLOOD        0\n",
      "NA_BLOOD       0\n",
      "ROE           60\n",
      "dtype: int64\n",
      "AGE          0\n",
      "S_AD_ORIT    0\n",
      "D_AD_ORIT    0\n",
      "dtype: int64\n"
     ]
    }
   ],
   "source": [
    "''' \n",
    "Logistic regression cannot handle NaNs, so we must adjust for that.\n",
    "'''\n",
    "\n",
    "# 1. Find all columns that have NaNs and their ocurrence\n",
    "X_nans_std = X[std_ftrs].isna().sum() #AST_BLOOD, ALT_BLOOD, ROE\n",
    "\n",
    "X_nans_minmax = X[minmax_ftrs].isna().sum()\n",
    "\n",
    "print(X_nans_std)\n",
    "print(X_nans_minmax)"
   ]
  },
  {
   "cell_type": "code",
   "execution_count": 439,
   "metadata": {},
   "outputs": [
    {
     "name": "stdout",
     "output_type": "stream",
     "text": [
      "fold_0\n",
      "0.813953488372093\n",
      "fold_1\n",
      "0.8662790697674418\n",
      "fold_2\n",
      "0.9005847953216374\n",
      "fold_3\n",
      "0.8538011695906432\n",
      "fold_4\n",
      "0.8421052631578947\n"
     ]
    }
   ],
   "source": [
    "''' \n",
    "Find training/validation set with the best score.\n",
    "'''\n",
    "from sklearn.linear_model import LogisticRegression\n",
    "\n",
    "LogReg = LogisticRegression(max_iter=300)\n",
    "\n",
    "for fold, X_data in X_splits_prep.items():\n",
    "    print(fold)\n",
    "\n",
    "    # Dropping continuous columns with NaNs\n",
    "    X_train = X_data['X_train_df'].drop(['std__AST_BLOOD', 'std__ALT_BLOOD', 'std__ROE'], axis=1)\n",
    "    y_train = splits[fold]['y_train']\n",
    "\n",
    "    model = LogReg.fit(X_train,y_train) \n",
    "\n",
    "    # Dropping continuous columns with NaNs\n",
    "    X_val = X_data['X_val_df'].drop(['std__AST_BLOOD', 'std__ALT_BLOOD', 'std__ROE'], axis=1)\n",
    "    y_val = splits[fold]['y_val']\n",
    "\n",
    "    y_pred_val = model.predict_proba(X_val)\n",
    "\n",
    "    score = model.score(X_val, y_val, sample_weight=None)\n",
    "\n",
    "    print(score)"
   ]
  },
  {
   "cell_type": "code",
   "execution_count": null,
   "metadata": {},
   "outputs": [
    {
     "name": "stdout",
     "output_type": "stream",
     "text": [
      "0.8744186046511628\n"
     ]
    }
   ],
   "source": [
    "''' \n",
    "Test model with testing data using train data from fold_2.\n",
    "'''\n",
    "X_data = X_splits_prep['fold_2']\n",
    "X_train = X_data['X_train_df'].drop(['std__AST_BLOOD', 'std__ALT_BLOOD', 'std__ROE'], axis=1)\n",
    "y_train = splits['fold_2']['y_train']\n",
    "\n",
    "X_test = X_data['X_test_df'].drop(['std__AST_BLOOD', 'std__ALT_BLOOD', 'std__ROE'], axis=1)\n",
    "y_test = y_test\n",
    "\n",
    "model = LogisticRegression(max_iter=300)\n",
    "model.fit(X_train, y_train)\n",
    "score = model.score(X_test, y_test)\n",
    "print(score) #87.4% accurate"
   ]
  },
  {
   "cell_type": "markdown",
   "metadata": {},
   "source": [
    "GLOBAL FEATURE INTERPRETATION"
   ]
  },
  {
   "cell_type": "code",
   "execution_count": 455,
   "metadata": {},
   "outputs": [],
   "source": [
    "features = X_train.columns\n",
    "importances = abs(model.coef_).reshape(len(features),)\n",
    "\n",
    "importance_df = pd.DataFrame({\n",
    "    'Feature': features,\n",
    "    'Importance': importances\n",
    "})\n"
   ]
  },
  {
   "cell_type": "markdown",
   "metadata": {},
   "source": [
    "**MULTIPLE MODEL GRID CV (MODELS THAT CAN'T HANDLE NANS)**\n",
    "- Logistic regression (Lasso/L1)\n",
    "- Logistic regression (Ridge/L2)\n",
    "- K-nearest neighbors\n",
    "- Support Vector Classifier"
   ]
  },
  {
   "cell_type": "code",
   "execution_count": null,
   "metadata": {},
   "outputs": [],
   "source": [
    "''' \n",
    "Preparing for splitting.\n",
    "- X, y are already defined and cleaned\n",
    "'''\n",
    "\n",
    "# Removing continuous columns with NaNs\n",
    "X_no_nans = X.drop(['AST_BLOOD', 'ALT_BLOOD', 'ROE'], axis=1)\n",
    "\n",
    "# Categorical\n",
    "one_hot_transformer = Pipeline(steps=[\n",
    "    ('imputer', SimpleImputer(strategy='constant',fill_value='missing')),\n",
    "    ('onehot', OneHotEncoder(sparse_output=False,handle_unknown='ignore'))])\n",
    "\n",
    "# Ordinal\n",
    "ordinal_transformer = Pipeline(steps=[\n",
    "    ('imputer2', SimpleImputer(strategy='constant',fill_value='missing')),\n",
    "    ('ordinal', OrdinalEncoder(categories='auto', handle_unknown='use_encoded_value', unknown_value=-1))])\n",
    "\n",
    "# MinMax \n",
    "minmax_transformer = Pipeline(steps=[\n",
    "    ('minmax', MinMaxScaler())])\n",
    "\n",
    "# Standard scaler \n",
    "std_transformer = Pipeline(steps=[\n",
    "    ('scaler', StandardScaler())])\n",
    "\n",
    "# Collect the transformers\n",
    "preprocessor = ColumnTransformer(\n",
    "    transformers=[\n",
    "        ('std', std_transformer, std_ftrs),\n",
    "        ('ohot', one_hot_transformer, onehot_ftrs),\n",
    "        ('ord', ordinal_transformer, ordinal_ftrs),\n",
    "        ('minmax', minmax_transformer, minmax_ftrs)])\n",
    "\n",
    "clf = Pipeline(steps=[('preprocessor', preprocessor)])\n"
   ]
  },
  {
   "cell_type": "code",
   "execution_count": null,
   "metadata": {},
   "outputs": [],
   "source": [
    "from sklearn.model_selection import GridSearchCV\n",
    "from sklearn.metrics import make_scorer, root_mean_squared_error\n",
    "\n"
   ]
  },
  {
   "cell_type": "markdown",
   "metadata": {},
   "source": [
    "**INTERPRETABILITY**"
   ]
  },
  {
   "cell_type": "code",
   "execution_count": null,
   "metadata": {},
   "outputs": [],
   "source": []
  },
  {
   "cell_type": "markdown",
   "metadata": {},
   "source": [
    "**REMOVING FEATURES AND RETRYING**"
   ]
  },
  {
   "cell_type": "code",
   "execution_count": null,
   "metadata": {},
   "outputs": [],
   "source": []
  }
 ],
 "metadata": {
  "kernelspec": {
   "display_name": "data1030",
   "language": "python",
   "name": "python3"
  },
  "language_info": {
   "codemirror_mode": {
    "name": "ipython",
    "version": 3
   },
   "file_extension": ".py",
   "mimetype": "text/x-python",
   "name": "python",
   "nbconvert_exporter": "python",
   "pygments_lexer": "ipython3",
   "version": "3.12.5"
  }
 },
 "nbformat": 4,
 "nbformat_minor": 2
}
